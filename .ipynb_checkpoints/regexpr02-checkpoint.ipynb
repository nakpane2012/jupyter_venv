{
 "cells": [
  {
   "cell_type": "code",
   "execution_count": 3,
   "id": "1c07f83c",
   "metadata": {},
   "outputs": [],
   "source": [
    "import re"
   ]
  },
  {
   "cell_type": "code",
   "execution_count": 4,
   "id": "98204164",
   "metadata": {},
   "outputs": [
    {
     "ename": "ModuleNotFoundError",
     "evalue": "No module named 'regex'",
     "output_type": "error",
     "traceback": [
      "\u001b[1;31m---------------------------------------------------------------------------\u001b[0m",
      "\u001b[1;31mModuleNotFoundError\u001b[0m                       Traceback (most recent call last)",
      "Cell \u001b[1;32mIn [4], line 1\u001b[0m\n\u001b[1;32m----> 1\u001b[0m \u001b[38;5;28;01mimport\u001b[39;00m \u001b[38;5;21;01mregex\u001b[39;00m\n",
      "\u001b[1;31mModuleNotFoundError\u001b[0m: No module named 'regex'"
     ]
    }
   ],
   "source": [
    "import regex"
   ]
  },
  {
   "cell_type": "code",
   "execution_count": 6,
   "id": "0d438986",
   "metadata": {},
   "outputs": [],
   "source": [
    "# Semiformatted text\n",
    "semiform = \"\"\"\n",
    "TGLCT-OOB-01#sh int status | inc connected\n",
    "Gi1/0/9                      connected    40         a-full a-1000 10/100/1000BaseTX\n",
    "Gi1/0/10                     connected    40         a-full  a-100 10/100/1000BaseTX\n",
    "Gi1/0/11                     connected    40         a-full a-1000 10/100/1000BaseTX\n",
    "Gi1/0/13                     connected    40         a-full a-1000 10/100/1000BaseTX\n",
    "Gi1/0/14                     connected    40         a-full a-1000 10/100/1000BaseTX\n",
    "Gi1/0/18                     connected    40         a-full a-1000 10/100/1000BaseTX\n",
    "Gi1/0/19                     connected    40         a-full  a-100 10/100/1000BaseTX\n",
    "Gi1/0/21  TGLCT-NX5K-01 Eth1 connected    trunk      a-full a-1000 10/100/1000BaseTX\n",
    "Gi1/0/22  TGLCT-NX5K-03 Eth1 connected    trunk      a-full a-1000 10/100/1000BaseTX\n",
    "Gi1/0/25  tglct-ab-sw1       connected    61         a-full a-1000 10/100/1000BaseTX\n",
    "Gi1/0/26  tglct-ab-mcc-cl01  connected    61         a-full a-1000 10/100/1000BaseTX\n",
    "Gi1/0/27  tglct-ab-ovmora01  connected    40         a-full a-1000 10/100/1000BaseTX\n",
    "Gi1/0/28  tglct-ab-esx01 CIM connected    40         a-full a-1000 10/100/1000BaseTX\n",
    "Gi1/0/29  tglct-ab-esx03 CIM connected    40         a-full a-1000 10/100/1000BaseTX\n",
    "Gi1/0/30  tglct-ftd01        connected    40         a-full a-1000 10/100/1000BaseTX\n",
    "Gi1/0/31                     connected    40         a-full a-1000 10/100/1000BaseTX\n",
    "Gi1/0/37  tglct-ab-sw3       connected    61         a-full a-1000 10/100/1000BaseTX\n",
    "Po1       TGLCT-NX5K01 & TGL connected    trunk      a-full a-1000 \n",
    "TGLCT-OOB-01#!!\n",
    "\"\"\""
   ]
  },
  {
   "cell_type": "code",
   "execution_count": 7,
   "id": "5c213689",
   "metadata": {},
   "outputs": [],
   "source": [
    "semiform_lines = semiform.split(\"\\n\")\n",
    "itemized_lines = []\n",
    "for line in semiform_lines:\n",
    "    # Make sure line has something in it so you don't wind up with empty list\n",
    "    if line:\n",
    "        itemized_lines.append(line.strip().split())"
   ]
  },
  {
   "cell_type": "code",
   "execution_count": 8,
   "id": "dceb1de9",
   "metadata": {},
   "outputs": [
    {
     "data": {
      "text/plain": [
       "22"
      ]
     },
     "execution_count": 8,
     "metadata": {},
     "output_type": "execute_result"
    }
   ],
   "source": [
    "len(semiform_lines)"
   ]
  },
  {
   "cell_type": "code",
   "execution_count": 9,
   "id": "ba060053",
   "metadata": {},
   "outputs": [
    {
     "data": {
      "text/plain": [
       "[['TGLCT-OOB-01#sh', 'int', 'status', '|', 'inc', 'connected'],\n",
       " ['Gi1/0/9', 'connected', '40', 'a-full', 'a-1000', '10/100/1000BaseTX'],\n",
       " ['Gi1/0/10', 'connected', '40', 'a-full', 'a-100', '10/100/1000BaseTX'],\n",
       " ['Gi1/0/11', 'connected', '40', 'a-full', 'a-1000', '10/100/1000BaseTX'],\n",
       " ['Gi1/0/13', 'connected', '40', 'a-full', 'a-1000', '10/100/1000BaseTX'],\n",
       " ['Gi1/0/14', 'connected', '40', 'a-full', 'a-1000', '10/100/1000BaseTX'],\n",
       " ['Gi1/0/18', 'connected', '40', 'a-full', 'a-1000', '10/100/1000BaseTX'],\n",
       " ['Gi1/0/19', 'connected', '40', 'a-full', 'a-100', '10/100/1000BaseTX'],\n",
       " ['Gi1/0/21',\n",
       "  'TGLCT-NX5K-01',\n",
       "  'Eth1',\n",
       "  'connected',\n",
       "  'trunk',\n",
       "  'a-full',\n",
       "  'a-1000',\n",
       "  '10/100/1000BaseTX'],\n",
       " ['Gi1/0/22',\n",
       "  'TGLCT-NX5K-03',\n",
       "  'Eth1',\n",
       "  'connected',\n",
       "  'trunk',\n",
       "  'a-full',\n",
       "  'a-1000',\n",
       "  '10/100/1000BaseTX'],\n",
       " ['Gi1/0/25',\n",
       "  'tglct-ab-sw1',\n",
       "  'connected',\n",
       "  '61',\n",
       "  'a-full',\n",
       "  'a-1000',\n",
       "  '10/100/1000BaseTX'],\n",
       " ['Gi1/0/26',\n",
       "  'tglct-ab-mcc-cl01',\n",
       "  'connected',\n",
       "  '61',\n",
       "  'a-full',\n",
       "  'a-1000',\n",
       "  '10/100/1000BaseTX'],\n",
       " ['Gi1/0/27',\n",
       "  'tglct-ab-ovmora01',\n",
       "  'connected',\n",
       "  '40',\n",
       "  'a-full',\n",
       "  'a-1000',\n",
       "  '10/100/1000BaseTX'],\n",
       " ['Gi1/0/28',\n",
       "  'tglct-ab-esx01',\n",
       "  'CIM',\n",
       "  'connected',\n",
       "  '40',\n",
       "  'a-full',\n",
       "  'a-1000',\n",
       "  '10/100/1000BaseTX'],\n",
       " ['Gi1/0/29',\n",
       "  'tglct-ab-esx03',\n",
       "  'CIM',\n",
       "  'connected',\n",
       "  '40',\n",
       "  'a-full',\n",
       "  'a-1000',\n",
       "  '10/100/1000BaseTX'],\n",
       " ['Gi1/0/30',\n",
       "  'tglct-ftd01',\n",
       "  'connected',\n",
       "  '40',\n",
       "  'a-full',\n",
       "  'a-1000',\n",
       "  '10/100/1000BaseTX'],\n",
       " ['Gi1/0/31', 'connected', '40', 'a-full', 'a-1000', '10/100/1000BaseTX'],\n",
       " ['Gi1/0/37',\n",
       "  'tglct-ab-sw3',\n",
       "  'connected',\n",
       "  '61',\n",
       "  'a-full',\n",
       "  'a-1000',\n",
       "  '10/100/1000BaseTX'],\n",
       " ['Po1', 'TGLCT-NX5K01', '&', 'TGL', 'connected', 'trunk', 'a-full', 'a-1000'],\n",
       " ['TGLCT-OOB-01#!!']]"
      ]
     },
     "execution_count": 9,
     "metadata": {},
     "output_type": "execute_result"
    }
   ],
   "source": [
    "itemized_lines"
   ]
  },
  {
   "cell_type": "code",
   "execution_count": null,
   "id": "953c9bc6",
   "metadata": {},
   "outputs": [],
   "source": []
  }
 ],
 "metadata": {
  "kernelspec": {
   "display_name": "Python 3 (ipykernel)",
   "language": "python",
   "name": "python3"
  },
  "language_info": {
   "codemirror_mode": {
    "name": "ipython",
    "version": 3
   },
   "file_extension": ".py",
   "mimetype": "text/x-python",
   "name": "python",
   "nbconvert_exporter": "python",
   "pygments_lexer": "ipython3",
   "version": "3.9.7"
  }
 },
 "nbformat": 4,
 "nbformat_minor": 5
}
