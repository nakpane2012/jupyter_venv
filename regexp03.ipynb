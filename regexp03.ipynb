{
 "cells": [
  {
   "cell_type": "code",
   "execution_count": 1,
   "id": "f740cd28",
   "metadata": {},
   "outputs": [],
   "source": [
    "import re"
   ]
  },
  {
   "cell_type": "code",
   "execution_count": 2,
   "id": "dd41bf12",
   "metadata": {},
   "outputs": [],
   "source": [
    "import regex"
   ]
  },
  {
   "cell_type": "code",
   "execution_count": 3,
   "id": "71903327",
   "metadata": {},
   "outputs": [],
   "source": [
    "semiform = \"\"\"\n",
    "TGLCT-OOB-01#show int status | inc connected\n",
    "Gi1/0/10                     connected    40         a-full  a-100 10/100/1000BaseTX\n",
    "Gi1/0/11                     connected    40         a-full a-1000 10/100/1000BaseTX\n",
    "Gi1/0/13                     connected    40         a-full a-1000 10/100/1000BaseTX\n",
    "Gi1/0/14                     connected    40         a-full a-1000 10/100/1000BaseTX\n",
    "Gi1/0/19                     connected    40         a-full  a-100 10/100/1000BaseTX\n",
    "Gi1/0/21  TGLCT-NX5K-01 Eth1 connected    trunk      a-full a-1000 10/100/1000BaseTX\n",
    "Gi1/0/22  TGLCT-NX5K-03 Eth1 connected    trunk      a-full a-1000 10/100/1000BaseTX\n",
    "Gi1/0/25  tglct-ab-sw1       connected    61         a-full a-1000 10/100/1000BaseTX\n",
    "Gi1/0/26  tglct-ab-mcc-cl01  connected    61         a-full a-1000 10/100/1000BaseTX\n",
    "Gi1/0/27  tglct-ab-ovmora01  connected    40         a-full a-1000 10/100/1000BaseTX\n",
    "Gi1/0/28  tglct-ab-esx01 CIM connected    40         a-full a-1000 10/100/1000BaseTX\n",
    "Gi1/0/29  tglct-ab-esx03 CIM connected    40         a-full a-1000 10/100/1000BaseTX\n",
    "Gi1/0/30  tglct-ftd01        connected    40         a-full a-1000 10/100/1000BaseTX\n",
    "Gi1/0/31                     connected    40         a-full a-1000 10/100/1000BaseTX\n",
    "Gi1/0/37  tglct-ab-sw3       connected    61         a-full a-1000 10/100/1000BaseTX\n",
    "Po1       TGLCT-NX5K01 & TGL connected    trunk      a-full a-1000 \n",
    "TGLCT-OOB-01#\n",
    "\"\"\""
   ]
  },
  {
   "cell_type": "code",
   "execution_count": 11,
   "id": "53f3f759",
   "metadata": {},
   "outputs": [],
   "source": [
    "semiform_lines = semiform.split(\"\\n\")\n",
    "itemized_lines = []\n",
    "for line in semiform_lines:\n",
    "    # Make sure line has something in it so that you don't wind up with empty list!\n",
    "    if line:\n",
    "        itemized_lines.append(line.strip().split())"
   ]
  },
  {
   "cell_type": "code",
   "execution_count": 24,
   "id": "dd94e87e",
   "metadata": {},
   "outputs": [
    {
     "data": {
      "text/plain": [
       "20"
      ]
     },
     "execution_count": 24,
     "metadata": {},
     "output_type": "execute_result"
    }
   ],
   "source": [
    "len(semiform_lines)"
   ]
  },
  {
   "cell_type": "code",
   "execution_count": 13,
   "id": "57efcc36",
   "metadata": {},
   "outputs": [
    {
     "data": {
      "text/plain": [
       "[['TGLCT-OOB-01#show', 'int', 'status', '|', 'inc', 'connected'],\n",
       " ['Gi1/0/10', 'connected', '40', 'a-full', 'a-100', '10/100/1000BaseTX'],\n",
       " ['Gi1/0/11', 'connected', '40', 'a-full', 'a-1000', '10/100/1000BaseTX'],\n",
       " ['Gi1/0/13', 'connected', '40', 'a-full', 'a-1000', '10/100/1000BaseTX'],\n",
       " ['Gi1/0/14', 'connected', '40', 'a-full', 'a-1000', '10/100/1000BaseTX'],\n",
       " ['Gi1/0/19', 'connected', '40', 'a-full', 'a-100', '10/100/1000BaseTX'],\n",
       " ['Gi1/0/21',\n",
       "  'TGLCT-NX5K-01',\n",
       "  'Eth1',\n",
       "  'connected',\n",
       "  'trunk',\n",
       "  'a-full',\n",
       "  'a-1000',\n",
       "  '10/100/1000BaseTX'],\n",
       " ['Gi1/0/22',\n",
       "  'TGLCT-NX5K-03',\n",
       "  'Eth1',\n",
       "  'connected',\n",
       "  'trunk',\n",
       "  'a-full',\n",
       "  'a-1000',\n",
       "  '10/100/1000BaseTX'],\n",
       " ['Gi1/0/25',\n",
       "  'tglct-ab-sw1',\n",
       "  'connected',\n",
       "  '61',\n",
       "  'a-full',\n",
       "  'a-1000',\n",
       "  '10/100/1000BaseTX'],\n",
       " ['Gi1/0/26',\n",
       "  'tglct-ab-mcc-cl01',\n",
       "  'connected',\n",
       "  '61',\n",
       "  'a-full',\n",
       "  'a-1000',\n",
       "  '10/100/1000BaseTX'],\n",
       " ['Gi1/0/27',\n",
       "  'tglct-ab-ovmora01',\n",
       "  'connected',\n",
       "  '40',\n",
       "  'a-full',\n",
       "  'a-1000',\n",
       "  '10/100/1000BaseTX'],\n",
       " ['Gi1/0/28',\n",
       "  'tglct-ab-esx01',\n",
       "  'CIM',\n",
       "  'connected',\n",
       "  '40',\n",
       "  'a-full',\n",
       "  'a-1000',\n",
       "  '10/100/1000BaseTX'],\n",
       " ['Gi1/0/29',\n",
       "  'tglct-ab-esx03',\n",
       "  'CIM',\n",
       "  'connected',\n",
       "  '40',\n",
       "  'a-full',\n",
       "  'a-1000',\n",
       "  '10/100/1000BaseTX'],\n",
       " ['Gi1/0/30',\n",
       "  'tglct-ftd01',\n",
       "  'connected',\n",
       "  '40',\n",
       "  'a-full',\n",
       "  'a-1000',\n",
       "  '10/100/1000BaseTX'],\n",
       " ['Gi1/0/31', 'connected', '40', 'a-full', 'a-1000', '10/100/1000BaseTX'],\n",
       " ['Gi1/0/37',\n",
       "  'tglct-ab-sw3',\n",
       "  'connected',\n",
       "  '61',\n",
       "  'a-full',\n",
       "  'a-1000',\n",
       "  '10/100/1000BaseTX'],\n",
       " ['Po1', 'TGLCT-NX5K01', '&', 'TGL', 'connected', 'trunk', 'a-full', 'a-1000'],\n",
       " ['TGLCT-OOB-01#']]"
      ]
     },
     "execution_count": 13,
     "metadata": {},
     "output_type": "execute_result"
    }
   ],
   "source": [
    "itemized_lines"
   ]
  },
  {
   "cell_type": "code",
   "execution_count": 18,
   "id": "8e324d67",
   "metadata": {},
   "outputs": [
    {
     "name": "stdout",
     "output_type": "stream",
     "text": [
      "TGLCT-OOB-01#show\n",
      "\n",
      "Pattern not found!\n",
      "\n",
      "Gi1/0/10\n",
      "['Gi1/0/10', 'connected', '40', 'a-full', 'a-100', '10/100/1000BaseTX']\n",
      "\n",
      "Gi1/0/11\n",
      "['Gi1/0/11', 'connected', '40', 'a-full', 'a-1000', '10/100/1000BaseTX']\n",
      "\n",
      "Gi1/0/13\n",
      "['Gi1/0/13', 'connected', '40', 'a-full', 'a-1000', '10/100/1000BaseTX']\n",
      "\n",
      "Gi1/0/14\n",
      "['Gi1/0/14', 'connected', '40', 'a-full', 'a-1000', '10/100/1000BaseTX']\n",
      "\n",
      "Gi1/0/19\n",
      "['Gi1/0/19', 'connected', '40', 'a-full', 'a-100', '10/100/1000BaseTX']\n",
      "\n",
      "Gi1/0/21\n",
      "['Gi1/0/21', 'TGLCT-NX5K-01', 'Eth1', 'connected', 'trunk', 'a-full', 'a-1000', '10/100/1000BaseTX']\n",
      "\n",
      "Gi1/0/22\n",
      "['Gi1/0/22', 'TGLCT-NX5K-03', 'Eth1', 'connected', 'trunk', 'a-full', 'a-1000', '10/100/1000BaseTX']\n",
      "\n",
      "Gi1/0/25\n",
      "['Gi1/0/25', 'tglct-ab-sw1', 'connected', '61', 'a-full', 'a-1000', '10/100/1000BaseTX']\n",
      "\n",
      "Gi1/0/26\n",
      "['Gi1/0/26', 'tglct-ab-mcc-cl01', 'connected', '61', 'a-full', 'a-1000', '10/100/1000BaseTX']\n",
      "\n",
      "Gi1/0/27\n",
      "['Gi1/0/27', 'tglct-ab-ovmora01', 'connected', '40', 'a-full', 'a-1000', '10/100/1000BaseTX']\n",
      "\n",
      "Gi1/0/28\n",
      "['Gi1/0/28', 'tglct-ab-esx01', 'CIM', 'connected', '40', 'a-full', 'a-1000', '10/100/1000BaseTX']\n",
      "\n",
      "Gi1/0/29\n",
      "['Gi1/0/29', 'tglct-ab-esx03', 'CIM', 'connected', '40', 'a-full', 'a-1000', '10/100/1000BaseTX']\n",
      "\n",
      "Gi1/0/30\n",
      "['Gi1/0/30', 'tglct-ftd01', 'connected', '40', 'a-full', 'a-1000', '10/100/1000BaseTX']\n",
      "\n",
      "Gi1/0/31\n",
      "['Gi1/0/31', 'connected', '40', 'a-full', 'a-1000', '10/100/1000BaseTX']\n",
      "\n",
      "Gi1/0/37\n",
      "['Gi1/0/37', 'tglct-ab-sw3', 'connected', '61', 'a-full', 'a-1000', '10/100/1000BaseTX']\n",
      "\n",
      "Po1\n",
      "\n",
      "Pattern not found!\n",
      "\n",
      "TGLCT-OOB-01#\n",
      "\n",
      "Pattern not found!\n",
      "\n"
     ]
    }
   ],
   "source": [
    "for line in itemized_lines:\n",
    "    print(line[0])\n",
    "    if re.search(r\"^(Gi|Te)\\d/0/\\d{1,2}$\", line[0]):\n",
    "        print(line)\n",
    "    else:\n",
    "        print(\"\\nPattern not found!\")\n",
    "    print()"
   ]
  },
  {
   "cell_type": "code",
   "execution_count": 20,
   "id": "07f41c9e",
   "metadata": {},
   "outputs": [
    {
     "name": "stdout",
     "output_type": "stream",
     "text": [
      "Gi1/0/10                     connected    40         a-full  a-100 10/100/1000BaseTX\n",
      "Gi1/0/11                     connected    40         a-full a-1000 10/100/1000BaseTX\n",
      "Gi1/0/13                     connected    40         a-full a-1000 10/100/1000BaseTX\n",
      "Gi1/0/14                     connected    40         a-full a-1000 10/100/1000BaseTX\n",
      "Gi1/0/19                     connected    40         a-full  a-100 10/100/1000BaseTX\n",
      "Gi1/0/21  TGLCT-NX5K-01 Eth1 connected    trunk      a-full a-1000 10/100/1000BaseTX\n",
      "Gi1/0/22  TGLCT-NX5K-03 Eth1 connected    trunk      a-full a-1000 10/100/1000BaseTX\n",
      "Gi1/0/25  tglct-ab-sw1       connected    61         a-full a-1000 10/100/1000BaseTX\n",
      "Gi1/0/26  tglct-ab-mcc-cl01  connected    61         a-full a-1000 10/100/1000BaseTX\n",
      "Gi1/0/27  tglct-ab-ovmora01  connected    40         a-full a-1000 10/100/1000BaseTX\n",
      "Gi1/0/28  tglct-ab-esx01 CIM connected    40         a-full a-1000 10/100/1000BaseTX\n",
      "Gi1/0/29  tglct-ab-esx03 CIM connected    40         a-full a-1000 10/100/1000BaseTX\n",
      "Gi1/0/30  tglct-ftd01        connected    40         a-full a-1000 10/100/1000BaseTX\n",
      "Gi1/0/31                     connected    40         a-full a-1000 10/100/1000BaseTX\n",
      "Gi1/0/37  tglct-ab-sw3       connected    61         a-full a-1000 10/100/1000BaseTX\n",
      "\n"
     ]
    }
   ],
   "source": [
    "for line in semiform_lines:\n",
    "    if re.search(r\"^(Gi|Te)\\d/(0|1)/\\d\", line):\n",
    "        print(line)\n",
    "print()"
   ]
  },
  {
   "cell_type": "code",
   "execution_count": 27,
   "id": "56fe971f",
   "metadata": {},
   "outputs": [
    {
     "name": "stdout",
     "output_type": "stream",
     "text": [
      "Gi1/0/10                     connected    40         a-full  a-100 10/100/1000BaseTX\n"
     ]
    }
   ],
   "source": [
    "print(semiform_lines[2])\n",
    "intf = re.search(r\"^(Gi\\d/(0|1)/\\d{1})\", semiform_lines[2])"
   ]
  },
  {
   "cell_type": "code",
   "execution_count": 28,
   "id": "78c75be0",
   "metadata": {},
   "outputs": [
    {
     "data": {
      "text/plain": [
       "<re.Match object; span=(0, 7), match='Gi1/0/1'>"
      ]
     },
     "execution_count": 28,
     "metadata": {},
     "output_type": "execute_result"
    }
   ],
   "source": [
    "intf"
   ]
  },
  {
   "cell_type": "code",
   "execution_count": 29,
   "id": "eca2b338",
   "metadata": {},
   "outputs": [
    {
     "data": {
      "text/plain": [
       "['__class__',\n",
       " '__class_getitem__',\n",
       " '__copy__',\n",
       " '__deepcopy__',\n",
       " '__delattr__',\n",
       " '__dir__',\n",
       " '__doc__',\n",
       " '__eq__',\n",
       " '__format__',\n",
       " '__ge__',\n",
       " '__getattribute__',\n",
       " '__getitem__',\n",
       " '__gt__',\n",
       " '__hash__',\n",
       " '__init__',\n",
       " '__init_subclass__',\n",
       " '__le__',\n",
       " '__lt__',\n",
       " '__module__',\n",
       " '__ne__',\n",
       " '__new__',\n",
       " '__reduce__',\n",
       " '__reduce_ex__',\n",
       " '__repr__',\n",
       " '__setattr__',\n",
       " '__sizeof__',\n",
       " '__str__',\n",
       " '__subclasshook__',\n",
       " 'end',\n",
       " 'endpos',\n",
       " 'expand',\n",
       " 'group',\n",
       " 'groupdict',\n",
       " 'groups',\n",
       " 'lastgroup',\n",
       " 'lastindex',\n",
       " 'pos',\n",
       " 're',\n",
       " 'regs',\n",
       " 'span',\n",
       " 'start',\n",
       " 'string']"
      ]
     },
     "execution_count": 29,
     "metadata": {},
     "output_type": "execute_result"
    }
   ],
   "source": [
    "dir(intf)"
   ]
  },
  {
   "cell_type": "code",
   "execution_count": 30,
   "id": "d7f5af4e",
   "metadata": {},
   "outputs": [
    {
     "data": {
      "text/plain": [
       "'Gi1/0/1'"
      ]
     },
     "execution_count": 30,
     "metadata": {},
     "output_type": "execute_result"
    }
   ],
   "source": [
    "intf.group()"
   ]
  },
  {
   "cell_type": "code",
   "execution_count": 31,
   "id": "8086ca3c",
   "metadata": {},
   "outputs": [
    {
     "data": {
      "text/plain": [
       "('Gi1/0/1', '0')"
      ]
     },
     "execution_count": 31,
     "metadata": {},
     "output_type": "execute_result"
    }
   ],
   "source": [
    "intf.groups()"
   ]
  },
  {
   "cell_type": "code",
   "execution_count": null,
   "id": "d0103373",
   "metadata": {},
   "outputs": [],
   "source": []
  }
 ],
 "metadata": {
  "kernelspec": {
   "display_name": "Python 3 (ipykernel)",
   "language": "python",
   "name": "python3"
  },
  "language_info": {
   "codemirror_mode": {
    "name": "ipython",
    "version": 3
   },
   "file_extension": ".py",
   "mimetype": "text/x-python",
   "name": "python",
   "nbconvert_exporter": "python",
   "pygments_lexer": "ipython3",
   "version": "3.10.5"
  }
 },
 "nbformat": 4,
 "nbformat_minor": 5
}
