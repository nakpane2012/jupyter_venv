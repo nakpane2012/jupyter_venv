{
 "cells": [
  {
   "cell_type": "code",
   "execution_count": 2,
   "id": "d859a17a",
   "metadata": {},
   "outputs": [
    {
     "name": "stdout",
     "output_type": "stream",
     "text": [
      "My string has \n",
      "ew line\n"
     ]
    }
   ],
   "source": [
    "print(\"My string has \\new line\")"
   ]
  },
  {
   "cell_type": "code",
   "execution_count": 4,
   "id": "b03ed834",
   "metadata": {},
   "outputs": [
    {
     "name": "stdout",
     "output_type": "stream",
     "text": [
      "My string has \n",
      " new line..\n"
     ]
    }
   ],
   "source": [
    "print(\"My string has \\n new line..\")"
   ]
  },
  {
   "cell_type": "code",
   "execution_count": 6,
   "id": "6fca4a5b",
   "metadata": {},
   "outputs": [],
   "source": [
    "my_ip = \"192.168.1.100\""
   ]
  },
  {
   "cell_type": "code",
   "execution_count": 10,
   "id": "c5ba3275",
   "metadata": {},
   "outputs": [],
   "source": [
    "import re"
   ]
  },
  {
   "cell_type": "code",
   "execution_count": 12,
   "id": "4fa57d6d",
   "metadata": {
    "scrolled": true
   },
   "outputs": [
    {
     "name": "stdout",
     "output_type": "stream",
     "text": [
      "192.168.1.100 has a valid IP address pattern\n"
     ]
    }
   ],
   "source": [
    "if re.match(r\"\\d{1,3}\\.\\d{1,3}\\.\\d{1,3}\\.\\d{1,3}$\", my_ip):\n",
    "    print(f\"{my_ip} has a valid IP address pattern\")"
   ]
  },
  {
   "cell_type": "code",
   "execution_count": null,
   "id": "f5009da4",
   "metadata": {},
   "outputs": [],
   "source": []
  }
 ],
 "metadata": {
  "kernelspec": {
   "display_name": "Python 3 (ipykernel)",
   "language": "python",
   "name": "python3"
  },
  "language_info": {
   "codemirror_mode": {
    "name": "ipython",
    "version": 3
   },
   "file_extension": ".py",
   "mimetype": "text/x-python",
   "name": "python",
   "nbconvert_exporter": "python",
   "pygments_lexer": "ipython3",
   "version": "3.9.7"
  }
 },
 "nbformat": 4,
 "nbformat_minor": 5
}
