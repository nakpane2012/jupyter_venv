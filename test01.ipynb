{
 "cells": [
  {
   "cell_type": "code",
   "execution_count": 3,
   "id": "287d9223",
   "metadata": {},
   "outputs": [],
   "source": [
    "import os"
   ]
  },
  {
   "cell_type": "code",
   "execution_count": 4,
   "id": "dfc4e658",
   "metadata": {},
   "outputs": [
    {
     "name": "stdout",
     "output_type": "stream",
     "text": [
      "\n",
      "Good morning to All\n",
      "\n"
     ]
    }
   ],
   "source": [
    "print(f\"\\nGood morning to All\\n\")"
   ]
  },
  {
   "cell_type": "code",
   "execution_count": 5,
   "id": "b5d4a7a8",
   "metadata": {},
   "outputs": [],
   "source": [
    "unform = \"Lorem, ipsum dolor sit amet, consecutetur adipiscing elit, set set o eidusmod tempor, incididunt ut labor\""
   ]
  },
  {
   "cell_type": "code",
   "execution_count": 6,
   "id": "70e7f515",
   "metadata": {},
   "outputs": [
    {
     "data": {
      "text/plain": [
       "0"
      ]
     },
     "execution_count": 6,
     "metadata": {},
     "output_type": "execute_result"
    }
   ],
   "source": [
    "unform.count(\"sed\")"
   ]
  },
  {
   "cell_type": "code",
   "execution_count": 7,
   "id": "deb39325",
   "metadata": {},
   "outputs": [
    {
     "data": {
      "text/plain": [
       "2"
      ]
     },
     "execution_count": 7,
     "metadata": {},
     "output_type": "execute_result"
    }
   ],
   "source": [
    "unform.count(\"set\")"
   ]
  },
  {
   "cell_type": "code",
   "execution_count": 8,
   "id": "fbaab3f8",
   "metadata": {},
   "outputs": [
    {
     "data": {
      "text/plain": [
       "53"
      ]
     },
     "execution_count": 8,
     "metadata": {},
     "output_type": "execute_result"
    }
   ],
   "source": [
    "unform.find(\"elit\")"
   ]
  },
  {
   "cell_type": "code",
   "execution_count": 9,
   "id": "5dba8727",
   "metadata": {},
   "outputs": [
    {
     "data": {
      "text/plain": [
       "type"
      ]
     },
     "execution_count": 9,
     "metadata": {},
     "output_type": "execute_result"
    }
   ],
   "source": [
    "type(str)"
   ]
  },
  {
   "cell_type": "code",
   "execution_count": 10,
   "id": "b1de7180",
   "metadata": {},
   "outputs": [
    {
     "ename": "AttributeError",
     "evalue": "'str' object has no attribute 'startwith'",
     "output_type": "error",
     "traceback": [
      "\u001b[1;31m---------------------------------------------------------------------------\u001b[0m",
      "\u001b[1;31mAttributeError\u001b[0m                            Traceback (most recent call last)",
      "Cell \u001b[1;32mIn [10], line 1\u001b[0m\n\u001b[1;32m----> 1\u001b[0m \u001b[43munform\u001b[49m\u001b[38;5;241;43m.\u001b[39;49m\u001b[43mstartwith\u001b[49m(\u001b[38;5;124m\"\u001b[39m\u001b[38;5;124mLorem\u001b[39m\u001b[38;5;124m\"\u001b[39m)\n",
      "\u001b[1;31mAttributeError\u001b[0m: 'str' object has no attribute 'startwith'"
     ]
    }
   ],
   "source": [
    "unform.startwith(\"Lorem\")"
   ]
  },
  {
   "cell_type": "code",
   "execution_count": 11,
   "id": "2a05a346",
   "metadata": {},
   "outputs": [
    {
     "data": {
      "text/plain": [
       "True"
      ]
     },
     "execution_count": 11,
     "metadata": {},
     "output_type": "execute_result"
    }
   ],
   "source": [
    "unform.startswith(\"Lorem\")"
   ]
  },
  {
   "cell_type": "code",
   "execution_count": 12,
   "id": "4cc856f8",
   "metadata": {},
   "outputs": [
    {
     "name": "stdout",
     "output_type": "stream",
     "text": [
      "Item found..!\n"
     ]
    }
   ],
   "source": [
    "if \"set\" in unform:\n",
    "    print(\"Item found..!\")"
   ]
  },
  {
   "cell_type": "code",
   "execution_count": 13,
   "id": "bec32429",
   "metadata": {},
   "outputs": [],
   "source": [
    "if \"sed\" in unform:\n",
    "    print(\"Item found...\")"
   ]
  },
  {
   "cell_type": "code",
   "execution_count": 14,
   "id": "3852a865",
   "metadata": {},
   "outputs": [],
   "source": [
    "# Semiformatted text\n",
    "semiform = \"\"\"\n",
    "TGLCT-OOB-01#sh int status | inc connected\n",
    "Gi1/0/9                      connected    40         a-full a-1000 10/100/1000BaseTX\n",
    "Gi1/0/10                     connected    40         a-full  a-100 10/100/1000BaseTX\n",
    "Gi1/0/11                     connected    40         a-full a-1000 10/100/1000BaseTX\n",
    "Gi1/0/13                     connected    40         a-full a-1000 10/100/1000BaseTX\n",
    "Gi1/0/14                     connected    40         a-full a-1000 10/100/1000BaseTX\n",
    "Gi1/0/18                     connected    40         a-full a-1000 10/100/1000BaseTX\n",
    "Gi1/0/19                     connected    40         a-full  a-100 10/100/1000BaseTX\n",
    "Gi1/0/21  TGLCT-NX5K-01 Eth1 connected    trunk      a-full a-1000 10/100/1000BaseTX\n",
    "Gi1/0/22  TGLCT-NX5K-03 Eth1 connected    trunk      a-full a-1000 10/100/1000BaseTX\n",
    "Gi1/0/25  tglct-ab-sw1       connected    61         a-full a-1000 10/100/1000BaseTX\n",
    "Gi1/0/26  tglct-ab-mcc-cl01  connected    61         a-full a-1000 10/100/1000BaseTX\n",
    "Gi1/0/27  tglct-ab-ovmora01  connected    40         a-full a-1000 10/100/1000BaseTX\n",
    "Gi1/0/28  tglct-ab-esx01 CIM connected    40         a-full a-1000 10/100/1000BaseTX\n",
    "Gi1/0/29  tglct-ab-esx03 CIM connected    40         a-full a-1000 10/100/1000BaseTX\n",
    "Gi1/0/30  tglct-ftd01        connected    40         a-full a-1000 10/100/1000BaseTX\n",
    "Gi1/0/31                     connected    40         a-full a-1000 10/100/1000BaseTX\n",
    "Gi1/0/37  tglct-ab-sw3       connected    61         a-full a-1000 10/100/1000BaseTX\n",
    "Po1       TGLCT-NX5K01 & TGL connected    trunk      a-full a-1000 \n",
    "TGLCT-OOB-01#!!\n",
    "\"\"\""
   ]
  },
  {
   "cell_type": "code",
   "execution_count": 15,
   "id": "ab749e95",
   "metadata": {},
   "outputs": [
    {
     "data": {
      "text/plain": [
       "str"
      ]
     },
     "execution_count": 15,
     "metadata": {},
     "output_type": "execute_result"
    }
   ],
   "source": [
    "type(semiform)"
   ]
  },
  {
   "cell_type": "code",
   "execution_count": 16,
   "id": "5a317879",
   "metadata": {},
   "outputs": [],
   "source": [
    "semiform_list = semiform.split(\"\\n\")"
   ]
  },
  {
   "cell_type": "code",
   "execution_count": 17,
   "id": "c4e766d6",
   "metadata": {},
   "outputs": [
    {
     "data": {
      "text/plain": [
       "22"
      ]
     },
     "execution_count": 17,
     "metadata": {},
     "output_type": "execute_result"
    }
   ],
   "source": [
    "len(semiform_list)"
   ]
  },
  {
   "cell_type": "code",
   "execution_count": 18,
   "id": "637449fe",
   "metadata": {},
   "outputs": [
    {
     "name": "stdout",
     "output_type": "stream",
     "text": [
      "Gi1/0/21  TGLCT-NX5K-01 Eth1 connected    trunk      a-full a-1000 10/100/1000BaseTX\n"
     ]
    }
   ],
   "source": [
    "for line in semiform_list:\n",
    "    if line.startswith(\"Gi1/0/21\"):\n",
    "        print(line)"
   ]
  },
  {
   "cell_type": "code",
   "execution_count": 19,
   "id": "d78eae18",
   "metadata": {},
   "outputs": [
    {
     "data": {
      "text/plain": [
       "list"
      ]
     },
     "execution_count": 19,
     "metadata": {},
     "output_type": "execute_result"
    }
   ],
   "source": [
    "type(semiform_list)"
   ]
  },
  {
   "cell_type": "code",
   "execution_count": 20,
   "id": "40a2780f",
   "metadata": {},
   "outputs": [
    {
     "name": "stdout",
     "output_type": "stream",
     "text": [
      "['Gi1/0/10', 'connected', '40', 'a-full', 'a-100', '10/100/1000BaseTX']\n",
      "['Gi1/0/11', 'connected', '40', 'a-full', 'a-1000', '10/100/1000BaseTX']\n",
      "['Gi1/0/13', 'connected', '40', 'a-full', 'a-1000', '10/100/1000BaseTX']\n",
      "['Gi1/0/14', 'connected', '40', 'a-full', 'a-1000', '10/100/1000BaseTX']\n",
      "['Gi1/0/18', 'connected', '40', 'a-full', 'a-1000', '10/100/1000BaseTX']\n",
      "['Gi1/0/19', 'connected', '40', 'a-full', 'a-100', '10/100/1000BaseTX']\n"
     ]
    }
   ],
   "source": [
    "for line in semiform_list:\n",
    "    if line.startswith(\"Gi1/0/1\"):\n",
    "        split_line = line.split()\n",
    "        print(split_line)"
   ]
  },
  {
   "cell_type": "code",
   "execution_count": 21,
   "id": "8502d7b2",
   "metadata": {},
   "outputs": [],
   "source": [
    "header = [\"int_0\", \"status_1\", \"vlan_2\", \"duplex_3\", \"speed_4\", \"type_5\"]"
   ]
  },
  {
   "cell_type": "code",
   "execution_count": 22,
   "id": "1ec8c517",
   "metadata": {},
   "outputs": [],
   "source": [
    "# Need uotput in a data structure we can process\n",
    "# a list of lists\n",
    "split_lol =[]\n",
    "split_lol.append(header)\n",
    "for line in semiform_list:\n",
    "    if line.startswith(\"Gi1/0/\"):\n",
    "        split_line = line.split()\n",
    "        split_lol.append(split_line)"
   ]
  },
  {
   "cell_type": "code",
   "execution_count": 23,
   "id": "9e46728d",
   "metadata": {},
   "outputs": [
    {
     "data": {
      "text/plain": [
       "[['int_0', 'status_1', 'vlan_2', 'duplex_3', 'speed_4', 'type_5'],\n",
       " ['Gi1/0/9', 'connected', '40', 'a-full', 'a-1000', '10/100/1000BaseTX'],\n",
       " ['Gi1/0/10', 'connected', '40', 'a-full', 'a-100', '10/100/1000BaseTX'],\n",
       " ['Gi1/0/11', 'connected', '40', 'a-full', 'a-1000', '10/100/1000BaseTX'],\n",
       " ['Gi1/0/13', 'connected', '40', 'a-full', 'a-1000', '10/100/1000BaseTX'],\n",
       " ['Gi1/0/14', 'connected', '40', 'a-full', 'a-1000', '10/100/1000BaseTX'],\n",
       " ['Gi1/0/18', 'connected', '40', 'a-full', 'a-1000', '10/100/1000BaseTX'],\n",
       " ['Gi1/0/19', 'connected', '40', 'a-full', 'a-100', '10/100/1000BaseTX'],\n",
       " ['Gi1/0/21',\n",
       "  'TGLCT-NX5K-01',\n",
       "  'Eth1',\n",
       "  'connected',\n",
       "  'trunk',\n",
       "  'a-full',\n",
       "  'a-1000',\n",
       "  '10/100/1000BaseTX'],\n",
       " ['Gi1/0/22',\n",
       "  'TGLCT-NX5K-03',\n",
       "  'Eth1',\n",
       "  'connected',\n",
       "  'trunk',\n",
       "  'a-full',\n",
       "  'a-1000',\n",
       "  '10/100/1000BaseTX'],\n",
       " ['Gi1/0/25',\n",
       "  'tglct-ab-sw1',\n",
       "  'connected',\n",
       "  '61',\n",
       "  'a-full',\n",
       "  'a-1000',\n",
       "  '10/100/1000BaseTX'],\n",
       " ['Gi1/0/26',\n",
       "  'tglct-ab-mcc-cl01',\n",
       "  'connected',\n",
       "  '61',\n",
       "  'a-full',\n",
       "  'a-1000',\n",
       "  '10/100/1000BaseTX'],\n",
       " ['Gi1/0/27',\n",
       "  'tglct-ab-ovmora01',\n",
       "  'connected',\n",
       "  '40',\n",
       "  'a-full',\n",
       "  'a-1000',\n",
       "  '10/100/1000BaseTX'],\n",
       " ['Gi1/0/28',\n",
       "  'tglct-ab-esx01',\n",
       "  'CIM',\n",
       "  'connected',\n",
       "  '40',\n",
       "  'a-full',\n",
       "  'a-1000',\n",
       "  '10/100/1000BaseTX'],\n",
       " ['Gi1/0/29',\n",
       "  'tglct-ab-esx03',\n",
       "  'CIM',\n",
       "  'connected',\n",
       "  '40',\n",
       "  'a-full',\n",
       "  'a-1000',\n",
       "  '10/100/1000BaseTX'],\n",
       " ['Gi1/0/30',\n",
       "  'tglct-ftd01',\n",
       "  'connected',\n",
       "  '40',\n",
       "  'a-full',\n",
       "  'a-1000',\n",
       "  '10/100/1000BaseTX'],\n",
       " ['Gi1/0/31', 'connected', '40', 'a-full', 'a-1000', '10/100/1000BaseTX'],\n",
       " ['Gi1/0/37',\n",
       "  'tglct-ab-sw3',\n",
       "  'connected',\n",
       "  '61',\n",
       "  'a-full',\n",
       "  'a-1000',\n",
       "  '10/100/1000BaseTX']]"
      ]
     },
     "execution_count": 23,
     "metadata": {},
     "output_type": "execute_result"
    }
   ],
   "source": [
    "split_lol"
   ]
  },
  {
   "cell_type": "code",
   "execution_count": 24,
   "id": "40cb4fea",
   "metadata": {},
   "outputs": [
    {
     "name": "stdout",
     "output_type": "stream",
     "text": [
      "Find all 10Mb/s Connected Interfaces:\n",
      "- a-1000\n",
      "- a-100\n",
      "- a-1000\n",
      "- a-1000\n",
      "- a-1000\n",
      "- a-1000\n",
      "- a-100\n",
      "- a-1000\n"
     ]
    }
   ],
   "source": [
    "print(\"Find all 10Mb/s Connected Interfaces:\")\n",
    "for line in split_lol:\n",
    "    if \"a-10\" in line[4]:\n",
    "        print(f\"- {line[4]}\")"
   ]
  },
  {
   "cell_type": "code",
   "execution_count": 25,
   "id": "f9397c94",
   "metadata": {},
   "outputs": [
    {
     "name": "stdout",
     "output_type": "stream",
     "text": [
      "Find all 10Mb/s Connected Interfaces:\n"
     ]
    }
   ],
   "source": [
    "print(\"Find all 10Mb/s Connected Interfaces:\")\n",
    "for line in split_lol:\n",
    "    if line[4].endswith(\"-10\"):\n",
    "        print(f\"- {line[0]} {line[4]}\")"
   ]
  },
  {
   "cell_type": "code",
   "execution_count": 26,
   "id": "6e7080cd",
   "metadata": {},
   "outputs": [
    {
     "name": "stdout",
     "output_type": "stream",
     "text": [
      "Find all 100Mb/s Connected Interfaces:\n",
      "- Gi1/0/10 a-100\n",
      "- Gi1/0/19 a-100\n"
     ]
    }
   ],
   "source": [
    "print(\"Find all 100Mb/s Connected Interfaces:\")\n",
    "for line in split_lol:\n",
    "    if line[4].endswith(\"-100\"):\n",
    "        print(f\"- {line[0]} {line[4]}\")"
   ]
  },
  {
   "cell_type": "code",
   "execution_count": 27,
   "id": "7f47c3a2",
   "metadata": {},
   "outputs": [
    {
     "name": "stdout",
     "output_type": "stream",
     "text": [
      "Find all 1000Mb/s Connected Interfaces:\n",
      "- Gi1/0/9 a-1000\n",
      "- Gi1/0/11 a-1000\n",
      "- Gi1/0/13 a-1000\n",
      "- Gi1/0/14 a-1000\n",
      "- Gi1/0/18 a-1000\n",
      "- Gi1/0/31 a-1000\n"
     ]
    }
   ],
   "source": [
    "print(\"Find all 1000Mb/s Connected Interfaces:\")\n",
    "for line in split_lol:\n",
    "    if line[4].endswith(\"-1000\"):\n",
    "        print(f\"- {line[0]} {line[4]}\")"
   ]
  },
  {
   "cell_type": "code",
   "execution_count": null,
   "id": "ec466487",
   "metadata": {},
   "outputs": [],
   "source": []
  }
 ],
 "metadata": {
  "kernelspec": {
   "display_name": "Python 3 (ipykernel)",
   "language": "python",
   "name": "python3"
  },
  "language_info": {
   "codemirror_mode": {
    "name": "ipython",
    "version": 3
   },
   "file_extension": ".py",
   "mimetype": "text/x-python",
   "name": "python",
   "nbconvert_exporter": "python",
   "pygments_lexer": "ipython3",
   "version": "3.10.5"
  }
 },
 "nbformat": 4,
 "nbformat_minor": 5
}
